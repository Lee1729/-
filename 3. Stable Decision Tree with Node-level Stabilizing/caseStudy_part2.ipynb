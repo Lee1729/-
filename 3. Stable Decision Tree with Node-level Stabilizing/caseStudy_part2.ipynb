{
 "cells": [
  {
   "cell_type": "markdown",
   "id": "b53a0af2-07c2-479c-96cc-7ecb92a4d8e2",
   "metadata": {},
   "source": [
    "# Case Study - Breast Cancer Wisconsin (Part 2) \n",
    "\n",
    "+ stable DT와 stable CRI의 코드입니다.  \n",
    "+ 다른 알고리즘들은 강의자료-실습코드나 scikit-learn tutorial, kaggle 등을 참고하시기 바랍니다.\n",
    "+ `/modules`에 코드 파일이 들어있습니다. 현재 작업하시는 `.ipynb` 파일의 경로에 첨부한 압축파일을 그대로 풀어주시면 됩니다.\n",
    "+ 프로그래밍에 능숙한 개발자가 코딩한 것이 아니므로 여러가지 오류가 일어날 수 있는 점 양해 부탁드리며, 오류에 대해서는 문의주시면 감사하겠습니다.\n",
    "\n",
    "## 1. Stable DT\n",
    "+ DT의 불안정성\n",
    "    - data에 조금만 변화가 일어나도 결과가 극적으로 바뀔 수 있음\n",
    "    - 결과가 자주, 극적으로 바뀐다면 해석적 관점에서 결과를 신뢰하기 힘듬\n",
    "+ stable DT\n",
    "    - node level stabilizing\n",
    "        - node에서 분기 시 N번 bootstrap sampling\n",
    "        - N개 분기 조건 중 최빈 선택\n",
    "    - 모든 분기에서 node level stabilizing을 이용해 재귀적 분할\n",
    "    - 범주형 변수는 숫자로 바꿔주는 전처리를 해도 되고, 안해도 됩니다.\n",
    "+ DT 사용 시 scikit-learn 대신 첨부한 stable DT를 사용해주시고, 발표 시 stable DT를 사용했다고 적어주시길 바랍니다."
   ]
  },
  {
   "cell_type": "code",
   "execution_count": 1,
   "id": "ce7e27d6-2dbd-4e8e-952b-226909269dd6",
   "metadata": {},
   "outputs": [],
   "source": [
    "import pandas as pd\n",
    "import numpy as np\n",
    "import matplotlib.pyplot as plt\n",
    "import seaborn as sns\n",
    "from modules.stableDT import stableDecisionTree # file 제공\n",
    "from modules.stableDT import visualize_tree # file 제공"
   ]
  },
  {
   "cell_type": "markdown",
   "id": "bc567dbc-79bb-4a33-a467-7c609284f467",
   "metadata": {},
   "source": [
    "### 1.1 Load dataset"
   ]
  },
  {
   "cell_type": "code",
   "execution_count": 27,
   "id": "fbcef681-6470-4fd3-80c8-d1b5275f4b1d",
   "metadata": {},
   "outputs": [],
   "source": [
    "data = pd.read_csv('BC_preprocessed.csv')"
   ]
  },
  {
   "cell_type": "code",
   "execution_count": 28,
   "id": "fa3d237a-e223-4045-adf6-5e5a95254d02",
   "metadata": {},
   "outputs": [
    {
     "data": {
      "text/plain": [
       "Index(['Clump_Thickness', 'Uniformity_of_Cell_Size',\n",
       "       'Uniformity_of_Cell_Shape', 'Marginal_Adhesion',\n",
       "       'Single_Epithelial_Cell_Size', 'Bare_Nuclei', 'Bland_Chromatin',\n",
       "       'Normal_Nucleoli', 'Mitoses', 'Class'],\n",
       "      dtype='object')"
      ]
     },
     "execution_count": 28,
     "metadata": {},
     "output_type": "execute_result"
    }
   ],
   "source": [
    "data.columns"
   ]
  },
  {
   "cell_type": "code",
   "execution_count": 29,
   "id": "c50ce92e-f695-4a4a-9918-b8732f70c697",
   "metadata": {},
   "outputs": [],
   "source": [
    "data.dropna(inplace=True)"
   ]
  },
  {
   "cell_type": "code",
   "execution_count": 30,
   "id": "83535057-8526-459b-9f74-fb276c335df3",
   "metadata": {},
   "outputs": [],
   "source": [
    "from sklearn.model_selection import train_test_split\n",
    "dataset = data.copy()\n",
    "target_name = 'Class' # target name을 꼭 입력해주시길 바랍니다.\n",
    "colnm = dataset.columns\n",
    "X = dataset.loc[:,colnm [colnm != target_name]]\n",
    "y = dataset.loc[:, target_name]"
   ]
  },
  {
   "cell_type": "code",
   "execution_count": 31,
   "id": "b384c966-9005-4c22-98f9-7a0ecdb29996",
   "metadata": {
    "scrolled": true,
    "tags": []
   },
   "outputs": [],
   "source": [
    "X = data[['Clump_Thickness', 'Uniformity_of_Cell_Size',\n",
    "       'Uniformity_of_Cell_Shape', 'Marginal_Adhesion',\n",
    "       'Single_Epithelial_Cell_Size', 'Bare_Nuclei', 'Bland_Chromatin',\n",
    "       'Normal_Nucleoli', 'Mitoses']].copy()\n",
    "y = data[target_name].copy()"
   ]
  },
  {
   "cell_type": "code",
   "execution_count": 32,
   "id": "e4274479-c225-4ce6-96e6-7d103397acda",
   "metadata": {},
   "outputs": [],
   "source": [
    "from sklearn.model_selection import train_test_split\n",
    "\n",
    "# training : test 8:2\n",
    "X_train, X_test, y_train, y_test = train_test_split(X, y, test_size=0.2, random_state=1333)"
   ]
  },
  {
   "cell_type": "markdown",
   "id": "a10cf9a3-0c95-4b46-adfb-20d2a08cebdb",
   "metadata": {
    "tags": []
   },
   "source": [
    "### 1.2 Fitting\n",
    "+ params\n",
    "    - max_depth : 최대 깊이\n",
    "    - min_sample : 리프 노드의 최소 샘플 수\n",
    "    - impurity_meausre : gini, entropy\n",
    "    - iter_num : 각 노드에서 리샘플링 횟수. default = 30. 데이터가 많아서 오래 걸린다면 iter_num을 줄일 것\n",
    "+ 보통의 경우, 별 다른 제약 없이 min_sample만 training dataset의 3%로 설정하고 수행"
   ]
  },
  {
   "cell_type": "code",
   "execution_count": 33,
   "id": "fcc441ed-bf73-4da7-beba-e9a15d2e4e3b",
   "metadata": {
    "scrolled": true,
    "tags": []
   },
   "outputs": [],
   "source": [
    "min_sample_ratio = 0.03 # 최소 샘플 수로 dataset의 샘플 수의 3%\n",
    "max_depth = 4\n",
    "impurity_measure='entropy'\n",
    "iter_num=3\n",
    "\n",
    "clf = stableDecisionTree(\n",
    "    min_sample = min_sample_ratio*len(X), \n",
    "    iter_num = iter_num,\n",
    "    max_depth=max_depth,\n",
    "    impurity_measure = impurity_measure)\n",
    "clf.fit(X,y)"
   ]
  },
  {
   "cell_type": "code",
   "execution_count": 34,
   "id": "c16b1adf-b970-44df-9489-de8d09fa6160",
   "metadata": {},
   "outputs": [
    {
     "data": {
      "image/svg+xml": "<?xml version=\"1.0\" encoding=\"UTF-8\" standalone=\"no\"?>\n<!DOCTYPE svg PUBLIC \"-//W3C//DTD SVG 1.1//EN\"\n \"http://www.w3.org/Graphics/SVG/1.1/DTD/svg11.dtd\">\n<!-- Generated by graphviz version 2.50.0 (20211204.2007)\n -->\n<!-- Pages: 1 -->\n<svg width=\"920pt\" height=\"516pt\"\n viewBox=\"0.00 0.00 920.00 516.00\" xmlns=\"http://www.w3.org/2000/svg\" xmlns:xlink=\"http://www.w3.org/1999/xlink\">\n<g id=\"graph0\" class=\"graph\" transform=\"scale(1 1) rotate(0) translate(4 512)\">\n<polygon fill=\"white\" stroke=\"transparent\" points=\"-4,4 -4,-512 916,-512 916,4 -4,4\"/>\n<!-- 1 -->\n<g id=\"node1\" class=\"node\">\n<title>1</title>\n<polygon fill=\"none\" stroke=\"black\" points=\"522.5,-508 325.5,-508 325.5,-440 522.5,-440 522.5,-508\"/>\n<text text-anchor=\"middle\" x=\"424\" y=\"-492.8\" font-family=\"Times New Roman,serif\" font-size=\"14.00\">Uniformity_of_Cell_Size &lt;= 2.0</text>\n<text text-anchor=\"middle\" x=\"424\" y=\"-477.8\" font-family=\"Times New Roman,serif\" font-size=\"14.00\">entropy : 0.934</text>\n<text text-anchor=\"middle\" x=\"424\" y=\"-462.8\" font-family=\"Times New Roman,serif\" font-size=\"14.00\">samples : 683</text>\n<text text-anchor=\"middle\" x=\"424\" y=\"-447.8\" font-family=\"Times New Roman,serif\" font-size=\"14.00\">value : [444, 239]</text>\n</g>\n<!-- 2 -->\n<g id=\"node2\" class=\"node\">\n<title>2</title>\n<polygon fill=\"none\" stroke=\"black\" points=\"400,-404 274,-404 274,-336 400,-336 400,-404\"/>\n<text text-anchor=\"middle\" x=\"337\" y=\"-388.8\" font-family=\"Times New Roman,serif\" font-size=\"14.00\">Bare_Nuclei &lt;= 2.0</text>\n<text text-anchor=\"middle\" x=\"337\" y=\"-373.8\" font-family=\"Times New Roman,serif\" font-size=\"14.00\">entropy : 0.1879</text>\n<text text-anchor=\"middle\" x=\"337\" y=\"-358.8\" font-family=\"Times New Roman,serif\" font-size=\"14.00\">samples : 418</text>\n<text text-anchor=\"middle\" x=\"337\" y=\"-343.8\" font-family=\"Times New Roman,serif\" font-size=\"14.00\">value : [406, 12]</text>\n</g>\n<!-- 1&#45;&gt;2 -->\n<g id=\"edge1\" class=\"edge\">\n<title>1&#45;&gt;2</title>\n<path fill=\"none\" stroke=\"black\" d=\"M395.75,-439.88C388.16,-430.98 379.85,-421.24 371.93,-411.96\"/>\n<polygon fill=\"black\" stroke=\"black\" points=\"374.55,-409.64 365.4,-404.3 369.23,-414.18 374.55,-409.64\"/>\n<text text-anchor=\"middle\" x=\"373.01\" y=\"-425.8\" font-family=\"Times New Roman,serif\" font-size=\"14.00\">yes</text>\n</g>\n<!-- 7 -->\n<g id=\"node7\" class=\"node\">\n<title>7</title>\n<polygon fill=\"none\" stroke=\"black\" points=\"574,-404 448,-404 448,-336 574,-336 574,-404\"/>\n<text text-anchor=\"middle\" x=\"511\" y=\"-388.8\" font-family=\"Times New Roman,serif\" font-size=\"14.00\">Bare_Nuclei &lt;= 5.5</text>\n<text text-anchor=\"middle\" x=\"511\" y=\"-373.8\" font-family=\"Times New Roman,serif\" font-size=\"14.00\">entropy : 0.5931</text>\n<text text-anchor=\"middle\" x=\"511\" y=\"-358.8\" font-family=\"Times New Roman,serif\" font-size=\"14.00\">samples : 265</text>\n<text text-anchor=\"middle\" x=\"511\" y=\"-343.8\" font-family=\"Times New Roman,serif\" font-size=\"14.00\">value : [38, 227]</text>\n</g>\n<!-- 1&#45;&gt;7 -->\n<g id=\"edge6\" class=\"edge\">\n<title>1&#45;&gt;7</title>\n<path fill=\"none\" stroke=\"black\" d=\"M452.25,-439.88C459.84,-430.98 468.15,-421.24 476.07,-411.96\"/>\n<polygon fill=\"black\" stroke=\"black\" points=\"478.77,-414.18 482.6,-404.3 473.45,-409.64 478.77,-414.18\"/>\n<text text-anchor=\"middle\" x=\"477.27\" y=\"-419.88\" font-family=\"Times New Roman,serif\" font-size=\"14.00\"> no</text>\n</g>\n<!-- 3 -->\n<g id=\"node3\" class=\"node\">\n<title>3</title>\n<polygon fill=\"none\" stroke=\"black\" points=\"261.5,-296 52.5,-296 52.5,-228 261.5,-228 261.5,-296\"/>\n<text text-anchor=\"middle\" x=\"157\" y=\"-280.8\" font-family=\"Times New Roman,serif\" font-size=\"14.00\">Uniformity_of_Cell_Shape &lt;= 2.0</text>\n<text text-anchor=\"middle\" x=\"157\" y=\"-265.8\" font-family=\"Times New Roman,serif\" font-size=\"14.00\">entropy : 0.0261</text>\n<text text-anchor=\"middle\" x=\"157\" y=\"-250.8\" font-family=\"Times New Roman,serif\" font-size=\"14.00\">samples : 384</text>\n<text text-anchor=\"middle\" x=\"157\" y=\"-235.8\" font-family=\"Times New Roman,serif\" font-size=\"14.00\">value : [383, 1]</text>\n</g>\n<!-- 2&#45;&gt;3 -->\n<g id=\"edge2\" class=\"edge\">\n<title>2&#45;&gt;3</title>\n<path fill=\"none\" stroke=\"black\" d=\"M280.54,-335.75C261.94,-324.8 241.12,-312.54 221.94,-301.24\"/>\n<polygon fill=\"black\" stroke=\"black\" points=\"223.65,-298.19 213.26,-296.13 220.1,-304.22 223.65,-298.19\"/>\n<text text-anchor=\"middle\" x=\"255.66\" y=\"-329.66\" font-family=\"Times New Roman,serif\" font-size=\"14.00\">yes</text>\n</g>\n<!-- 6 -->\n<g id=\"node6\" class=\"node\">\n<title>6</title>\n<polygon fill=\"none\" stroke=\"black\" points=\"390.5,-296 283.5,-296 283.5,-228 390.5,-228 390.5,-296\"/>\n<polygon fill=\"none\" stroke=\"black\" points=\"394.5,-300 279.5,-300 279.5,-224 394.5,-224 394.5,-300\"/>\n<text text-anchor=\"middle\" x=\"337\" y=\"-280.8\" font-family=\"Times New Roman,serif\" font-size=\"14.00\">predicted_y = 0</text>\n<text text-anchor=\"middle\" x=\"337\" y=\"-265.8\" font-family=\"Times New Roman,serif\" font-size=\"14.00\">entropy : 0.9082</text>\n<text text-anchor=\"middle\" x=\"337\" y=\"-250.8\" font-family=\"Times New Roman,serif\" font-size=\"14.00\">samples : 34</text>\n<text text-anchor=\"middle\" x=\"337\" y=\"-235.8\" font-family=\"Times New Roman,serif\" font-size=\"14.00\">value : [23, 11]</text>\n</g>\n<!-- 2&#45;&gt;6 -->\n<g id=\"edge5\" class=\"edge\">\n<title>2&#45;&gt;6</title>\n<path fill=\"none\" stroke=\"black\" d=\"M337,-335.75C337,-327.72 337,-318.99 337,-310.45\"/>\n<polygon fill=\"black\" stroke=\"black\" points=\"340.5,-310.19 337,-300.19 333.5,-310.19 340.5,-310.19\"/>\n<text text-anchor=\"middle\" x=\"345.45\" y=\"-314.61\" font-family=\"Times New Roman,serif\" font-size=\"14.00\"> no</text>\n</g>\n<!-- 4 -->\n<g id=\"node4\" class=\"node\">\n<title>4</title>\n<polygon fill=\"none\" stroke=\"black\" points=\"110,-184 4,-184 4,-116 110,-116 110,-184\"/>\n<polygon fill=\"none\" stroke=\"black\" points=\"114,-188 0,-188 0,-112 114,-112 114,-188\"/>\n<text text-anchor=\"middle\" x=\"57\" y=\"-168.8\" font-family=\"Times New Roman,serif\" font-size=\"14.00\">predicted_y = 0</text>\n<text text-anchor=\"middle\" x=\"57\" y=\"-153.8\" font-family=\"Times New Roman,serif\" font-size=\"14.00\">entropy : &#45;0.0</text>\n<text text-anchor=\"middle\" x=\"57\" y=\"-138.8\" font-family=\"Times New Roman,serif\" font-size=\"14.00\">samples : 355</text>\n<text text-anchor=\"middle\" x=\"57\" y=\"-123.8\" font-family=\"Times New Roman,serif\" font-size=\"14.00\">value : [355, 0]</text>\n</g>\n<!-- 3&#45;&gt;4 -->\n<g id=\"edge3\" class=\"edge\">\n<title>3&#45;&gt;4</title>\n<path fill=\"none\" stroke=\"black\" d=\"M127,-228C117.83,-217.91 107.59,-206.65 97.83,-195.92\"/>\n<polygon fill=\"black\" stroke=\"black\" points=\"100.15,-193.26 90.84,-188.22 94.97,-197.97 100.15,-193.26\"/>\n<text text-anchor=\"middle\" x=\"103.94\" y=\"-214.64\" font-family=\"Times New Roman,serif\" font-size=\"14.00\">yes</text>\n</g>\n<!-- 5 -->\n<g id=\"node5\" class=\"node\">\n<title>5</title>\n<polygon fill=\"none\" stroke=\"black\" points=\"243.5,-184 136.5,-184 136.5,-116 243.5,-116 243.5,-184\"/>\n<polygon fill=\"none\" stroke=\"black\" points=\"247.5,-188 132.5,-188 132.5,-112 247.5,-112 247.5,-188\"/>\n<text text-anchor=\"middle\" x=\"190\" y=\"-168.8\" font-family=\"Times New Roman,serif\" font-size=\"14.00\">predicted_y = 0</text>\n<text text-anchor=\"middle\" x=\"190\" y=\"-153.8\" font-family=\"Times New Roman,serif\" font-size=\"14.00\">entropy : 0.2164</text>\n<text text-anchor=\"middle\" x=\"190\" y=\"-138.8\" font-family=\"Times New Roman,serif\" font-size=\"14.00\">samples : 29</text>\n<text text-anchor=\"middle\" x=\"190\" y=\"-123.8\" font-family=\"Times New Roman,serif\" font-size=\"14.00\">value : [28, 1]</text>\n</g>\n<!-- 3&#45;&gt;5 -->\n<g id=\"edge4\" class=\"edge\">\n<title>3&#45;&gt;5</title>\n<path fill=\"none\" stroke=\"black\" d=\"M166.9,-228C169.72,-218.6 172.85,-208.18 175.87,-198.11\"/>\n<polygon fill=\"black\" stroke=\"black\" points=\"179.31,-198.8 178.83,-188.22 172.61,-196.79 179.31,-198.8\"/>\n<text text-anchor=\"middle\" x=\"181.72\" y=\"-204.31\" font-family=\"Times New Roman,serif\" font-size=\"14.00\"> no</text>\n</g>\n<!-- 8 -->\n<g id=\"node8\" class=\"node\">\n<title>8</title>\n<polygon fill=\"none\" stroke=\"black\" points=\"609.5,-296 412.5,-296 412.5,-228 609.5,-228 609.5,-296\"/>\n<text text-anchor=\"middle\" x=\"511\" y=\"-280.8\" font-family=\"Times New Roman,serif\" font-size=\"14.00\">Uniformity_of_Cell_Size &lt;= 4.0</text>\n<text text-anchor=\"middle\" x=\"511\" y=\"-265.8\" font-family=\"Times New Roman,serif\" font-size=\"14.00\">entropy : 0.9183</text>\n<text text-anchor=\"middle\" x=\"511\" y=\"-250.8\" font-family=\"Times New Roman,serif\" font-size=\"14.00\">samples : 99</text>\n<text text-anchor=\"middle\" x=\"511\" y=\"-235.8\" font-family=\"Times New Roman,serif\" font-size=\"14.00\">value : [33, 66]</text>\n</g>\n<!-- 7&#45;&gt;8 -->\n<g id=\"edge7\" class=\"edge\">\n<title>7&#45;&gt;8</title>\n<path fill=\"none\" stroke=\"black\" d=\"M511,-335.75C511,-326.38 511,-316.04 511,-306.18\"/>\n<polygon fill=\"black\" stroke=\"black\" points=\"514.5,-306.13 511,-296.13 507.5,-306.13 514.5,-306.13\"/>\n<text text-anchor=\"middle\" x=\"500.43\" y=\"-309.39\" font-family=\"Times New Roman,serif\" font-size=\"14.00\">yes</text>\n</g>\n<!-- 11 -->\n<g id=\"node11\" class=\"node\">\n<title>11</title>\n<polygon fill=\"none\" stroke=\"black\" points=\"794.5,-296 627.5,-296 627.5,-228 794.5,-228 794.5,-296\"/>\n<text text-anchor=\"middle\" x=\"711\" y=\"-280.8\" font-family=\"Times New Roman,serif\" font-size=\"14.00\">Marginal_Adhesion &lt;= 5.0</text>\n<text text-anchor=\"middle\" x=\"711\" y=\"-265.8\" font-family=\"Times New Roman,serif\" font-size=\"14.00\">entropy : 0.195</text>\n<text text-anchor=\"middle\" x=\"711\" y=\"-250.8\" font-family=\"Times New Roman,serif\" font-size=\"14.00\">samples : 166</text>\n<text text-anchor=\"middle\" x=\"711\" y=\"-235.8\" font-family=\"Times New Roman,serif\" font-size=\"14.00\">value : [5, 161]</text>\n</g>\n<!-- 7&#45;&gt;11 -->\n<g id=\"edge10\" class=\"edge\">\n<title>7&#45;&gt;11</title>\n<path fill=\"none\" stroke=\"black\" d=\"M573.46,-335.9C594.42,-324.79 617.95,-312.32 639.55,-300.87\"/>\n<polygon fill=\"black\" stroke=\"black\" points=\"641.47,-303.81 648.67,-296.03 638.2,-297.62 641.47,-303.81\"/>\n<text text-anchor=\"middle\" x=\"636.61\" y=\"-308.29\" font-family=\"Times New Roman,serif\" font-size=\"14.00\"> no</text>\n</g>\n<!-- 9 -->\n<g id=\"node9\" class=\"node\">\n<title>9</title>\n<polygon fill=\"none\" stroke=\"black\" points=\"442.5,-184 335.5,-184 335.5,-116 442.5,-116 442.5,-184\"/>\n<polygon fill=\"none\" stroke=\"black\" points=\"446.5,-188 331.5,-188 331.5,-112 446.5,-112 446.5,-188\"/>\n<text text-anchor=\"middle\" x=\"389\" y=\"-168.8\" font-family=\"Times New Roman,serif\" font-size=\"14.00\">predicted_y = 0</text>\n<text text-anchor=\"middle\" x=\"389\" y=\"-153.8\" font-family=\"Times New Roman,serif\" font-size=\"14.00\">entropy : 0.9313</text>\n<text text-anchor=\"middle\" x=\"389\" y=\"-138.8\" font-family=\"Times New Roman,serif\" font-size=\"14.00\">samples : 49</text>\n<text text-anchor=\"middle\" x=\"389\" y=\"-123.8\" font-family=\"Times New Roman,serif\" font-size=\"14.00\">value : [32, 17]</text>\n</g>\n<!-- 8&#45;&gt;9 -->\n<g id=\"edge8\" class=\"edge\">\n<title>8&#45;&gt;9</title>\n<path fill=\"none\" stroke=\"black\" d=\"M474.4,-228C462.89,-217.62 449.99,-205.99 437.78,-194.98\"/>\n<polygon fill=\"black\" stroke=\"black\" points=\"440.05,-192.32 430.28,-188.22 435.36,-197.52 440.05,-192.32\"/>\n<text text-anchor=\"middle\" x=\"450.49\" y=\"-216.97\" font-family=\"Times New Roman,serif\" font-size=\"14.00\">yes</text>\n</g>\n<!-- 10 -->\n<g id=\"node10\" class=\"node\">\n<title>10</title>\n<polygon fill=\"none\" stroke=\"black\" points=\"575.5,-184 468.5,-184 468.5,-116 575.5,-116 575.5,-184\"/>\n<polygon fill=\"none\" stroke=\"black\" points=\"579.5,-188 464.5,-188 464.5,-112 579.5,-112 579.5,-188\"/>\n<text text-anchor=\"middle\" x=\"522\" y=\"-168.8\" font-family=\"Times New Roman,serif\" font-size=\"14.00\">predicted_y = 1</text>\n<text text-anchor=\"middle\" x=\"522\" y=\"-153.8\" font-family=\"Times New Roman,serif\" font-size=\"14.00\">entropy : 0.1414</text>\n<text text-anchor=\"middle\" x=\"522\" y=\"-138.8\" font-family=\"Times New Roman,serif\" font-size=\"14.00\">samples : 50</text>\n<text text-anchor=\"middle\" x=\"522\" y=\"-123.8\" font-family=\"Times New Roman,serif\" font-size=\"14.00\">value : [1, 49]</text>\n</g>\n<!-- 8&#45;&gt;10 -->\n<g id=\"edge9\" class=\"edge\">\n<title>8&#45;&gt;10</title>\n<path fill=\"none\" stroke=\"black\" d=\"M514.3,-228C515.23,-218.7 516.26,-208.39 517.26,-198.43\"/>\n<polygon fill=\"black\" stroke=\"black\" points=\"520.77,-198.52 518.28,-188.22 513.8,-197.82 520.77,-198.52\"/>\n<text text-anchor=\"middle\" x=\"524.88\" y=\"-203.4\" font-family=\"Times New Roman,serif\" font-size=\"14.00\"> no</text>\n</g>\n<!-- 12 -->\n<g id=\"node12\" class=\"node\">\n<title>12</title>\n<polygon fill=\"none\" stroke=\"black\" points=\"780,-184 620,-184 620,-116 780,-116 780,-184\"/>\n<text text-anchor=\"middle\" x=\"700\" y=\"-168.8\" font-family=\"Times New Roman,serif\" font-size=\"14.00\">Clump_Thickness &lt;= 7.0</text>\n<text text-anchor=\"middle\" x=\"700\" y=\"-153.8\" font-family=\"Times New Roman,serif\" font-size=\"14.00\">entropy : 0.3404</text>\n<text text-anchor=\"middle\" x=\"700\" y=\"-138.8\" font-family=\"Times New Roman,serif\" font-size=\"14.00\">samples : 79</text>\n<text text-anchor=\"middle\" x=\"700\" y=\"-123.8\" font-family=\"Times New Roman,serif\" font-size=\"14.00\">value : [5, 74]</text>\n</g>\n<!-- 11&#45;&gt;12 -->\n<g id=\"edge11\" class=\"edge\">\n<title>11&#45;&gt;12</title>\n<path fill=\"none\" stroke=\"black\" d=\"M707.7,-228C706.64,-217.43 705.46,-205.58 704.34,-194.39\"/>\n<polygon fill=\"black\" stroke=\"black\" points=\"707.81,-193.96 703.34,-184.36 700.85,-194.66 707.81,-193.96\"/>\n<text text-anchor=\"middle\" x=\"694.93\" y=\"-202.8\" font-family=\"Times New Roman,serif\" font-size=\"14.00\">yes</text>\n</g>\n<!-- 15 -->\n<g id=\"node15\" class=\"node\">\n<title>15</title>\n<polygon fill=\"none\" stroke=\"black\" points=\"908,-184 802,-184 802,-116 908,-116 908,-184\"/>\n<polygon fill=\"none\" stroke=\"black\" points=\"912,-188 798,-188 798,-112 912,-112 912,-188\"/>\n<text text-anchor=\"middle\" x=\"855\" y=\"-168.8\" font-family=\"Times New Roman,serif\" font-size=\"14.00\">predicted_y = 1</text>\n<text text-anchor=\"middle\" x=\"855\" y=\"-153.8\" font-family=\"Times New Roman,serif\" font-size=\"14.00\">entropy : &#45;0.0</text>\n<text text-anchor=\"middle\" x=\"855\" y=\"-138.8\" font-family=\"Times New Roman,serif\" font-size=\"14.00\">samples : 87</text>\n<text text-anchor=\"middle\" x=\"855\" y=\"-123.8\" font-family=\"Times New Roman,serif\" font-size=\"14.00\">value : [0, 87]</text>\n</g>\n<!-- 11&#45;&gt;15 -->\n<g id=\"edge14\" class=\"edge\">\n<title>11&#45;&gt;15</title>\n<path fill=\"none\" stroke=\"black\" d=\"M754.2,-228C768.11,-217.37 783.74,-205.43 798.46,-194.19\"/>\n<polygon fill=\"black\" stroke=\"black\" points=\"800.71,-196.88 806.53,-188.02 796.46,-191.31 800.71,-196.88\"/>\n<text text-anchor=\"middle\" x=\"797.26\" y=\"-202.04\" font-family=\"Times New Roman,serif\" font-size=\"14.00\"> no</text>\n</g>\n<!-- 13 -->\n<g id=\"node13\" class=\"node\">\n<title>13</title>\n<polygon fill=\"none\" stroke=\"black\" points=\"686.5,-72 579.5,-72 579.5,-4 686.5,-4 686.5,-72\"/>\n<polygon fill=\"none\" stroke=\"black\" points=\"690.5,-76 575.5,-76 575.5,0 690.5,0 690.5,-76\"/>\n<text text-anchor=\"middle\" x=\"633\" y=\"-56.8\" font-family=\"Times New Roman,serif\" font-size=\"14.00\">predicted_y = 1</text>\n<text text-anchor=\"middle\" x=\"633\" y=\"-41.8\" font-family=\"Times New Roman,serif\" font-size=\"14.00\">entropy : 0.5436</text>\n<text text-anchor=\"middle\" x=\"633\" y=\"-26.8\" font-family=\"Times New Roman,serif\" font-size=\"14.00\">samples : 32</text>\n<text text-anchor=\"middle\" x=\"633\" y=\"-11.8\" font-family=\"Times New Roman,serif\" font-size=\"14.00\">value : [4, 28]</text>\n</g>\n<!-- 12&#45;&gt;13 -->\n<g id=\"edge12\" class=\"edge\">\n<title>12&#45;&gt;13</title>\n<path fill=\"none\" stroke=\"black\" d=\"M679.9,-116C673.94,-106.21 667.29,-95.3 660.93,-84.86\"/>\n<polygon fill=\"black\" stroke=\"black\" points=\"663.86,-82.94 655.67,-76.22 657.88,-86.58 663.86,-82.94\"/>\n<text text-anchor=\"middle\" x=\"659.09\" y=\"-98.44\" font-family=\"Times New Roman,serif\" font-size=\"14.00\">yes</text>\n</g>\n<!-- 14 -->\n<g id=\"node14\" class=\"node\">\n<title>14</title>\n<polygon fill=\"none\" stroke=\"black\" points=\"819.5,-72 712.5,-72 712.5,-4 819.5,-4 819.5,-72\"/>\n<polygon fill=\"none\" stroke=\"black\" points=\"823.5,-76 708.5,-76 708.5,0 823.5,0 823.5,-76\"/>\n<text text-anchor=\"middle\" x=\"766\" y=\"-56.8\" font-family=\"Times New Roman,serif\" font-size=\"14.00\">predicted_y = 1</text>\n<text text-anchor=\"middle\" x=\"766\" y=\"-41.8\" font-family=\"Times New Roman,serif\" font-size=\"14.00\">entropy : 0.1485</text>\n<text text-anchor=\"middle\" x=\"766\" y=\"-26.8\" font-family=\"Times New Roman,serif\" font-size=\"14.00\">samples : 47</text>\n<text text-anchor=\"middle\" x=\"766\" y=\"-11.8\" font-family=\"Times New Roman,serif\" font-size=\"14.00\">value : [1, 46]</text>\n</g>\n<!-- 12&#45;&gt;14 -->\n<g id=\"edge13\" class=\"edge\">\n<title>12&#45;&gt;14</title>\n<path fill=\"none\" stroke=\"black\" d=\"M719.8,-116C725.68,-106.21 732.22,-95.3 738.49,-84.86\"/>\n<polygon fill=\"black\" stroke=\"black\" points=\"741.52,-86.6 743.67,-76.22 735.52,-82.99 741.52,-86.6\"/>\n<text text-anchor=\"middle\" x=\"741.59\" y=\"-92.41\" font-family=\"Times New Roman,serif\" font-size=\"14.00\"> no</text>\n</g>\n</g>\n</svg>\n",
      "text/plain": [
       "<graphviz.graphs.Digraph at 0x226527ef6d0>"
      ]
     },
     "execution_count": 34,
     "metadata": {},
     "output_type": "execute_result"
    }
   ],
   "source": [
    "# images\n",
    "visualize_tree(clf.root)"
   ]
  },
  {
   "cell_type": "markdown",
   "id": "dd1f88c2-6c5d-4868-b060-cf3a4e565095",
   "metadata": {},
   "source": [
    "### 1.3 Results\n",
    "+ predictive performance\n",
    "+ text\n",
    "+ image"
   ]
  },
  {
   "cell_type": "code",
   "execution_count": 35,
   "id": "c125aff7-4ec8-4d75-906f-01b75b1d1087",
   "metadata": {},
   "outputs": [
    {
     "data": {
      "text/plain": [
       "(0.948905109489051, 0.9441435144737609)"
      ]
     },
     "execution_count": 35,
     "metadata": {},
     "output_type": "execute_result"
    }
   ],
   "source": [
    "# predictive performance\n",
    "from sklearn.metrics import accuracy_score\n",
    "from sklearn.metrics import f1_score\n",
    "from sklearn.metrics import confusion_matrix\n",
    "\n",
    "pred_y = clf.predict(X_test)\n",
    "acc = accuracy_score(y_test,pred_y)\n",
    "f1 = f1_score(y_test, pred_y, average='macro')\n",
    "acc, f1"
   ]
  },
  {
   "cell_type": "code",
   "execution_count": 36,
   "id": "864aa02f-def1-470b-ad7e-efac118b22bc",
   "metadata": {},
   "outputs": [
    {
     "name": "stdout",
     "output_type": "stream",
     "text": [
      "[[85  2]\n",
      " [ 5 45]]\n"
     ]
    }
   ],
   "source": [
    "# confusion matrix\n",
    "cm = confusion_matrix(y_test, pred_y)\n",
    "print(cm)"
   ]
  },
  {
   "cell_type": "code",
   "execution_count": 37,
   "id": "0a158400-286b-4a6f-9f43-a3499e1626b7",
   "metadata": {},
   "outputs": [
    {
     "name": "stdout",
     "output_type": "stream",
     "text": [
      "IF Uniformity_of_Cell_Size > 2.0 AND Bare_Nuclei > 5.5 AND Marginal_Adhesion > 5.0 THEN y = 1\n",
      "IF Uniformity_of_Cell_Size > 2.0 AND Bare_Nuclei > 5.5 AND Marginal_Adhesion <= 5.0 AND Clump_Thickness > 7.0 THEN y = 1\n",
      "IF Uniformity_of_Cell_Size > 2.0 AND Bare_Nuclei > 5.5 AND Marginal_Adhesion <= 5.0 AND Clump_Thickness <= 7.0 THEN y = 1\n",
      "IF Uniformity_of_Cell_Size > 2.0 AND Bare_Nuclei <= 5.5 AND Uniformity_of_Cell_Size > 4.0 THEN y = 1\n",
      "IF Uniformity_of_Cell_Size > 2.0 AND Bare_Nuclei <= 5.5 AND Uniformity_of_Cell_Size <= 4.0 THEN y = 0\n",
      "IF Uniformity_of_Cell_Size <= 2.0 AND Bare_Nuclei > 2.0 THEN y = 0\n",
      "IF Uniformity_of_Cell_Size <= 2.0 AND Bare_Nuclei <= 2.0 AND Uniformity_of_Cell_Shape > 2.0 THEN y = 0\n",
      "IF Uniformity_of_Cell_Size <= 2.0 AND Bare_Nuclei <= 2.0 AND Uniformity_of_Cell_Shape <= 2.0 THEN y = 0\n"
     ]
    }
   ],
   "source": [
    "# exporting rules to text\n",
    "clf.export_text()"
   ]
  },
  {
   "cell_type": "code",
   "execution_count": 38,
   "id": "ee0a9d28-30b8-4c6b-a38c-9d01e457916d",
   "metadata": {},
   "outputs": [
    {
     "data": {
      "text/html": [
       "<style>#sk-container-id-1 {color: black;background-color: white;}#sk-container-id-1 pre{padding: 0;}#sk-container-id-1 div.sk-toggleable {background-color: white;}#sk-container-id-1 label.sk-toggleable__label {cursor: pointer;display: block;width: 100%;margin-bottom: 0;padding: 0.3em;box-sizing: border-box;text-align: center;}#sk-container-id-1 label.sk-toggleable__label-arrow:before {content: \"▸\";float: left;margin-right: 0.25em;color: #696969;}#sk-container-id-1 label.sk-toggleable__label-arrow:hover:before {color: black;}#sk-container-id-1 div.sk-estimator:hover label.sk-toggleable__label-arrow:before {color: black;}#sk-container-id-1 div.sk-toggleable__content {max-height: 0;max-width: 0;overflow: hidden;text-align: left;background-color: #f0f8ff;}#sk-container-id-1 div.sk-toggleable__content pre {margin: 0.2em;color: black;border-radius: 0.25em;background-color: #f0f8ff;}#sk-container-id-1 input.sk-toggleable__control:checked~div.sk-toggleable__content {max-height: 200px;max-width: 100%;overflow: auto;}#sk-container-id-1 input.sk-toggleable__control:checked~label.sk-toggleable__label-arrow:before {content: \"▾\";}#sk-container-id-1 div.sk-estimator input.sk-toggleable__control:checked~label.sk-toggleable__label {background-color: #d4ebff;}#sk-container-id-1 div.sk-label input.sk-toggleable__control:checked~label.sk-toggleable__label {background-color: #d4ebff;}#sk-container-id-1 input.sk-hidden--visually {border: 0;clip: rect(1px 1px 1px 1px);clip: rect(1px, 1px, 1px, 1px);height: 1px;margin: -1px;overflow: hidden;padding: 0;position: absolute;width: 1px;}#sk-container-id-1 div.sk-estimator {font-family: monospace;background-color: #f0f8ff;border: 1px dotted black;border-radius: 0.25em;box-sizing: border-box;margin-bottom: 0.5em;}#sk-container-id-1 div.sk-estimator:hover {background-color: #d4ebff;}#sk-container-id-1 div.sk-parallel-item::after {content: \"\";width: 100%;border-bottom: 1px solid gray;flex-grow: 1;}#sk-container-id-1 div.sk-label:hover label.sk-toggleable__label {background-color: #d4ebff;}#sk-container-id-1 div.sk-serial::before {content: \"\";position: absolute;border-left: 1px solid gray;box-sizing: border-box;top: 0;bottom: 0;left: 50%;z-index: 0;}#sk-container-id-1 div.sk-serial {display: flex;flex-direction: column;align-items: center;background-color: white;padding-right: 0.2em;padding-left: 0.2em;position: relative;}#sk-container-id-1 div.sk-item {position: relative;z-index: 1;}#sk-container-id-1 div.sk-parallel {display: flex;align-items: stretch;justify-content: center;background-color: white;position: relative;}#sk-container-id-1 div.sk-item::before, #sk-container-id-1 div.sk-parallel-item::before {content: \"\";position: absolute;border-left: 1px solid gray;box-sizing: border-box;top: 0;bottom: 0;left: 50%;z-index: -1;}#sk-container-id-1 div.sk-parallel-item {display: flex;flex-direction: column;z-index: 1;position: relative;background-color: white;}#sk-container-id-1 div.sk-parallel-item:first-child::after {align-self: flex-end;width: 50%;}#sk-container-id-1 div.sk-parallel-item:last-child::after {align-self: flex-start;width: 50%;}#sk-container-id-1 div.sk-parallel-item:only-child::after {width: 0;}#sk-container-id-1 div.sk-dashed-wrapped {border: 1px dashed gray;margin: 0 0.4em 0.5em 0.4em;box-sizing: border-box;padding-bottom: 0.4em;background-color: white;}#sk-container-id-1 div.sk-label label {font-family: monospace;font-weight: bold;display: inline-block;line-height: 1.2em;}#sk-container-id-1 div.sk-label-container {text-align: center;}#sk-container-id-1 div.sk-container {/* jupyter's `normalize.less` sets `[hidden] { display: none; }` but bootstrap.min.css set `[hidden] { display: none !important; }` so we also need the `!important` here to be able to override the default hidden behavior on the sphinx rendered scikit-learn.org. See: https://github.com/scikit-learn/scikit-learn/issues/21755 */display: inline-block !important;position: relative;}#sk-container-id-1 div.sk-text-repr-fallback {display: none;}</style><div id=\"sk-container-id-1\" class=\"sk-top-container\"><div class=\"sk-text-repr-fallback\"><pre>DecisionTreeClassifier(criterion=&#x27;entropy&#x27;, max_depth=5, min_samples_leaf=0.03)</pre><b>In a Jupyter environment, please rerun this cell to show the HTML representation or trust the notebook. <br />On GitHub, the HTML representation is unable to render, please try loading this page with nbviewer.org.</b></div><div class=\"sk-container\" hidden><div class=\"sk-item\"><div class=\"sk-estimator sk-toggleable\"><input class=\"sk-toggleable__control sk-hidden--visually\" id=\"sk-estimator-id-1\" type=\"checkbox\" checked><label for=\"sk-estimator-id-1\" class=\"sk-toggleable__label sk-toggleable__label-arrow\">DecisionTreeClassifier</label><div class=\"sk-toggleable__content\"><pre>DecisionTreeClassifier(criterion=&#x27;entropy&#x27;, max_depth=5, min_samples_leaf=0.03)</pre></div></div></div></div></div>"
      ],
      "text/plain": [
       "DecisionTreeClassifier(criterion='entropy', max_depth=5, min_samples_leaf=0.03)"
      ]
     },
     "execution_count": 38,
     "metadata": {},
     "output_type": "execute_result"
    }
   ],
   "source": [
    "from sklearn.tree import DecisionTreeClassifier\n",
    "\n",
    "max_depth = 5\n",
    "dt = DecisionTreeClassifier(criterion = 'entropy', min_samples_leaf=0.03, max_depth=max_depth)\n",
    "dt.fit(X_train,y_train)"
   ]
  },
  {
   "cell_type": "code",
   "execution_count": 39,
   "id": "2b752a47-1f7b-4f96-8fe7-1ab482399ab9",
   "metadata": {},
   "outputs": [
    {
     "data": {
      "text/plain": [
       "5.46"
      ]
     },
     "execution_count": 39,
     "metadata": {},
     "output_type": "execute_result"
    }
   ],
   "source": [
    "X_train.shape[0]*0.01"
   ]
  },
  {
   "cell_type": "code",
   "execution_count": 40,
   "id": "65ea239f-37d9-4253-a442-a81bd4bf5ce6",
   "metadata": {},
   "outputs": [
    {
     "data": {
      "image/svg+xml": "<?xml version=\"1.0\" encoding=\"UTF-8\" standalone=\"no\"?>\n<!DOCTYPE svg PUBLIC \"-//W3C//DTD SVG 1.1//EN\"\n \"http://www.w3.org/Graphics/SVG/1.1/DTD/svg11.dtd\">\n<!-- Generated by graphviz version 2.50.0 (20211204.2007)\n -->\n<!-- Title: Tree Pages: 1 -->\n<svg width=\"839pt\" height=\"477pt\"\n viewBox=\"0.00 0.00 839.00 477.00\" xmlns=\"http://www.w3.org/2000/svg\" xmlns:xlink=\"http://www.w3.org/1999/xlink\">\n<g id=\"graph0\" class=\"graph\" transform=\"scale(1 1) rotate(0) translate(4 473)\">\n<title>Tree</title>\n<polygon fill=\"white\" stroke=\"transparent\" points=\"-4,4 -4,-473 835,-473 835,4 -4,4\"/>\n<!-- 0 -->\n<g id=\"node1\" class=\"node\">\n<title>0</title>\n<polygon fill=\"none\" stroke=\"black\" points=\"595.5,-469 381.5,-469 381.5,-401 595.5,-401 595.5,-469\"/>\n<text text-anchor=\"middle\" x=\"488.5\" y=\"-453.8\" font-family=\"Helvetica,sans-Serif\" font-size=\"14.00\">Uniformity_of_Cell_Size &lt;= 3.5</text>\n<text text-anchor=\"middle\" x=\"488.5\" y=\"-438.8\" font-family=\"Helvetica,sans-Serif\" font-size=\"14.00\">entropy = 0.931</text>\n<text text-anchor=\"middle\" x=\"488.5\" y=\"-423.8\" font-family=\"Helvetica,sans-Serif\" font-size=\"14.00\">samples = 546</text>\n<text text-anchor=\"middle\" x=\"488.5\" y=\"-408.8\" font-family=\"Helvetica,sans-Serif\" font-size=\"14.00\">value = [357, 189]</text>\n</g>\n<!-- 1 -->\n<g id=\"node2\" class=\"node\">\n<title>1</title>\n<polygon fill=\"none\" stroke=\"black\" points=\"461.5,-365 323.5,-365 323.5,-297 461.5,-297 461.5,-365\"/>\n<text text-anchor=\"middle\" x=\"392.5\" y=\"-349.8\" font-family=\"Helvetica,sans-Serif\" font-size=\"14.00\">Bare_Nuclei &lt;= 2.5</text>\n<text text-anchor=\"middle\" x=\"392.5\" y=\"-334.8\" font-family=\"Helvetica,sans-Serif\" font-size=\"14.00\">entropy = 0.382</text>\n<text text-anchor=\"middle\" x=\"392.5\" y=\"-319.8\" font-family=\"Helvetica,sans-Serif\" font-size=\"14.00\">samples = 377</text>\n<text text-anchor=\"middle\" x=\"392.5\" y=\"-304.8\" font-family=\"Helvetica,sans-Serif\" font-size=\"14.00\">value = [349, 28]</text>\n</g>\n<!-- 0&#45;&gt;1 -->\n<g id=\"edge1\" class=\"edge\">\n<title>0&#45;&gt;1</title>\n<path fill=\"none\" stroke=\"black\" d=\"M457.33,-400.88C448.86,-391.89 439.6,-382.04 430.79,-372.68\"/>\n<polygon fill=\"black\" stroke=\"black\" points=\"433.24,-370.18 423.84,-365.3 428.15,-374.98 433.24,-370.18\"/>\n<text text-anchor=\"middle\" x=\"423.08\" y=\"-386.59\" font-family=\"Helvetica,sans-Serif\" font-size=\"14.00\">True</text>\n</g>\n<!-- 8 -->\n<g id=\"node9\" class=\"node\">\n<title>8</title>\n<polygon fill=\"none\" stroke=\"black\" points=\"685.5,-365 547.5,-365 547.5,-297 685.5,-297 685.5,-365\"/>\n<text text-anchor=\"middle\" x=\"616.5\" y=\"-349.8\" font-family=\"Helvetica,sans-Serif\" font-size=\"14.00\">Bare_Nuclei &lt;= 8.5</text>\n<text text-anchor=\"middle\" x=\"616.5\" y=\"-334.8\" font-family=\"Helvetica,sans-Serif\" font-size=\"14.00\">entropy = 0.275</text>\n<text text-anchor=\"middle\" x=\"616.5\" y=\"-319.8\" font-family=\"Helvetica,sans-Serif\" font-size=\"14.00\">samples = 169</text>\n<text text-anchor=\"middle\" x=\"616.5\" y=\"-304.8\" font-family=\"Helvetica,sans-Serif\" font-size=\"14.00\">value = [8, 161]</text>\n</g>\n<!-- 0&#45;&gt;8 -->\n<g id=\"edge8\" class=\"edge\">\n<title>0&#45;&gt;8</title>\n<path fill=\"none\" stroke=\"black\" d=\"M530.06,-400.88C541.79,-391.53 554.68,-381.26 566.85,-371.57\"/>\n<polygon fill=\"black\" stroke=\"black\" points=\"569.07,-374.27 574.71,-365.3 564.71,-368.79 569.07,-374.27\"/>\n<text text-anchor=\"middle\" x=\"571.9\" y=\"-386.44\" font-family=\"Helvetica,sans-Serif\" font-size=\"14.00\">False</text>\n</g>\n<!-- 2 -->\n<g id=\"node3\" class=\"node\">\n<title>2</title>\n<polygon fill=\"none\" stroke=\"black\" points=\"254.5,-261 116.5,-261 116.5,-193 254.5,-193 254.5,-261\"/>\n<text text-anchor=\"middle\" x=\"185.5\" y=\"-245.8\" font-family=\"Helvetica,sans-Serif\" font-size=\"14.00\">Bare_Nuclei &lt;= 1.5</text>\n<text text-anchor=\"middle\" x=\"185.5\" y=\"-230.8\" font-family=\"Helvetica,sans-Serif\" font-size=\"14.00\">entropy = 0.03</text>\n<text text-anchor=\"middle\" x=\"185.5\" y=\"-215.8\" font-family=\"Helvetica,sans-Serif\" font-size=\"14.00\">samples = 327</text>\n<text text-anchor=\"middle\" x=\"185.5\" y=\"-200.8\" font-family=\"Helvetica,sans-Serif\" font-size=\"14.00\">value = [326, 1]</text>\n</g>\n<!-- 1&#45;&gt;2 -->\n<g id=\"edge2\" class=\"edge\">\n<title>1&#45;&gt;2</title>\n<path fill=\"none\" stroke=\"black\" d=\"M325.29,-296.88C305.03,-286.9 282.65,-275.87 261.85,-265.62\"/>\n<polygon fill=\"black\" stroke=\"black\" points=\"263.24,-262.41 252.72,-261.12 260.15,-268.68 263.24,-262.41\"/>\n</g>\n<!-- 5 -->\n<g id=\"node6\" class=\"node\">\n<title>5</title>\n<polygon fill=\"none\" stroke=\"black\" points=\"480,-261 305,-261 305,-193 480,-193 480,-261\"/>\n<text text-anchor=\"middle\" x=\"392.5\" y=\"-245.8\" font-family=\"Helvetica,sans-Serif\" font-size=\"14.00\">Clump_Thickness &lt;= 3.5</text>\n<text text-anchor=\"middle\" x=\"392.5\" y=\"-230.8\" font-family=\"Helvetica,sans-Serif\" font-size=\"14.00\">entropy = 0.995</text>\n<text text-anchor=\"middle\" x=\"392.5\" y=\"-215.8\" font-family=\"Helvetica,sans-Serif\" font-size=\"14.00\">samples = 50</text>\n<text text-anchor=\"middle\" x=\"392.5\" y=\"-200.8\" font-family=\"Helvetica,sans-Serif\" font-size=\"14.00\">value = [23, 27]</text>\n</g>\n<!-- 1&#45;&gt;5 -->\n<g id=\"edge5\" class=\"edge\">\n<title>1&#45;&gt;5</title>\n<path fill=\"none\" stroke=\"black\" d=\"M392.5,-296.88C392.5,-288.78 392.5,-279.98 392.5,-271.47\"/>\n<polygon fill=\"black\" stroke=\"black\" points=\"396,-271.3 392.5,-261.3 389,-271.3 396,-271.3\"/>\n</g>\n<!-- 3 -->\n<g id=\"node4\" class=\"node\">\n<title>3</title>\n<polygon fill=\"none\" stroke=\"black\" points=\"113,-149.5 0,-149.5 0,-96.5 113,-96.5 113,-149.5\"/>\n<text text-anchor=\"middle\" x=\"56.5\" y=\"-134.3\" font-family=\"Helvetica,sans-Serif\" font-size=\"14.00\">entropy = 0.0</text>\n<text text-anchor=\"middle\" x=\"56.5\" y=\"-119.3\" font-family=\"Helvetica,sans-Serif\" font-size=\"14.00\">samples = 309</text>\n<text text-anchor=\"middle\" x=\"56.5\" y=\"-104.3\" font-family=\"Helvetica,sans-Serif\" font-size=\"14.00\">value = [309, 0]</text>\n</g>\n<!-- 2&#45;&gt;3 -->\n<g id=\"edge3\" class=\"edge\">\n<title>2&#45;&gt;3</title>\n<path fill=\"none\" stroke=\"black\" d=\"M143.62,-192.88C128.6,-181.01 111.7,-167.65 96.81,-155.88\"/>\n<polygon fill=\"black\" stroke=\"black\" points=\"98.79,-152.98 88.78,-149.52 94.45,-158.47 98.79,-152.98\"/>\n</g>\n<!-- 4 -->\n<g id=\"node5\" class=\"node\">\n<title>4</title>\n<polygon fill=\"none\" stroke=\"black\" points=\"239.5,-149.5 131.5,-149.5 131.5,-96.5 239.5,-96.5 239.5,-149.5\"/>\n<text text-anchor=\"middle\" x=\"185.5\" y=\"-134.3\" font-family=\"Helvetica,sans-Serif\" font-size=\"14.00\">entropy = 0.31</text>\n<text text-anchor=\"middle\" x=\"185.5\" y=\"-119.3\" font-family=\"Helvetica,sans-Serif\" font-size=\"14.00\">samples = 18</text>\n<text text-anchor=\"middle\" x=\"185.5\" y=\"-104.3\" font-family=\"Helvetica,sans-Serif\" font-size=\"14.00\">value = [17, 1]</text>\n</g>\n<!-- 2&#45;&gt;4 -->\n<g id=\"edge4\" class=\"edge\">\n<title>2&#45;&gt;4</title>\n<path fill=\"none\" stroke=\"black\" d=\"M185.5,-192.88C185.5,-182.33 185.5,-170.6 185.5,-159.85\"/>\n<polygon fill=\"black\" stroke=\"black\" points=\"189,-159.52 185.5,-149.52 182,-159.52 189,-159.52\"/>\n</g>\n<!-- 6 -->\n<g id=\"node7\" class=\"node\">\n<title>6</title>\n<polygon fill=\"none\" stroke=\"black\" points=\"373.5,-149.5 257.5,-149.5 257.5,-96.5 373.5,-96.5 373.5,-149.5\"/>\n<text text-anchor=\"middle\" x=\"315.5\" y=\"-134.3\" font-family=\"Helvetica,sans-Serif\" font-size=\"14.00\">entropy = 0.297</text>\n<text text-anchor=\"middle\" x=\"315.5\" y=\"-119.3\" font-family=\"Helvetica,sans-Serif\" font-size=\"14.00\">samples = 19</text>\n<text text-anchor=\"middle\" x=\"315.5\" y=\"-104.3\" font-family=\"Helvetica,sans-Serif\" font-size=\"14.00\">value = [18, 1]</text>\n</g>\n<!-- 5&#45;&gt;6 -->\n<g id=\"edge6\" class=\"edge\">\n<title>5&#45;&gt;6</title>\n<path fill=\"none\" stroke=\"black\" d=\"M367.5,-192.88C358.95,-181.56 349.38,-168.88 340.8,-157.52\"/>\n<polygon fill=\"black\" stroke=\"black\" points=\"343.58,-155.39 334.77,-149.52 338,-159.61 343.58,-155.39\"/>\n</g>\n<!-- 7 -->\n<g id=\"node8\" class=\"node\">\n<title>7</title>\n<polygon fill=\"none\" stroke=\"black\" points=\"507.5,-149.5 391.5,-149.5 391.5,-96.5 507.5,-96.5 507.5,-149.5\"/>\n<text text-anchor=\"middle\" x=\"449.5\" y=\"-134.3\" font-family=\"Helvetica,sans-Serif\" font-size=\"14.00\">entropy = 0.637</text>\n<text text-anchor=\"middle\" x=\"449.5\" y=\"-119.3\" font-family=\"Helvetica,sans-Serif\" font-size=\"14.00\">samples = 31</text>\n<text text-anchor=\"middle\" x=\"449.5\" y=\"-104.3\" font-family=\"Helvetica,sans-Serif\" font-size=\"14.00\">value = [5, 26]</text>\n</g>\n<!-- 5&#45;&gt;7 -->\n<g id=\"edge7\" class=\"edge\">\n<title>5&#45;&gt;7</title>\n<path fill=\"none\" stroke=\"black\" d=\"M411.01,-192.88C417.15,-181.89 424.01,-169.62 430.21,-158.52\"/>\n<polygon fill=\"black\" stroke=\"black\" points=\"433.42,-159.96 435.24,-149.52 427.31,-156.54 433.42,-159.96\"/>\n</g>\n<!-- 9 -->\n<g id=\"node10\" class=\"node\">\n<title>9</title>\n<polygon fill=\"none\" stroke=\"black\" points=\"704,-261 529,-261 529,-193 704,-193 704,-261\"/>\n<text text-anchor=\"middle\" x=\"616.5\" y=\"-245.8\" font-family=\"Helvetica,sans-Serif\" font-size=\"14.00\">Clump_Thickness &lt;= 8.5</text>\n<text text-anchor=\"middle\" x=\"616.5\" y=\"-230.8\" font-family=\"Helvetica,sans-Serif\" font-size=\"14.00\">entropy = 0.49</text>\n<text text-anchor=\"middle\" x=\"616.5\" y=\"-215.8\" font-family=\"Helvetica,sans-Serif\" font-size=\"14.00\">samples = 75</text>\n<text text-anchor=\"middle\" x=\"616.5\" y=\"-200.8\" font-family=\"Helvetica,sans-Serif\" font-size=\"14.00\">value = [8, 67]</text>\n</g>\n<!-- 8&#45;&gt;9 -->\n<g id=\"edge9\" class=\"edge\">\n<title>8&#45;&gt;9</title>\n<path fill=\"none\" stroke=\"black\" d=\"M616.5,-296.88C616.5,-288.78 616.5,-279.98 616.5,-271.47\"/>\n<polygon fill=\"black\" stroke=\"black\" points=\"620,-271.3 616.5,-261.3 613,-271.3 620,-271.3\"/>\n</g>\n<!-- 14 -->\n<g id=\"node15\" class=\"node\">\n<title>14</title>\n<polygon fill=\"none\" stroke=\"black\" points=\"827,-253.5 722,-253.5 722,-200.5 827,-200.5 827,-253.5\"/>\n<text text-anchor=\"middle\" x=\"774.5\" y=\"-238.3\" font-family=\"Helvetica,sans-Serif\" font-size=\"14.00\">entropy = 0.0</text>\n<text text-anchor=\"middle\" x=\"774.5\" y=\"-223.3\" font-family=\"Helvetica,sans-Serif\" font-size=\"14.00\">samples = 94</text>\n<text text-anchor=\"middle\" x=\"774.5\" y=\"-208.3\" font-family=\"Helvetica,sans-Serif\" font-size=\"14.00\">value = [0, 94]</text>\n</g>\n<!-- 8&#45;&gt;14 -->\n<g id=\"edge14\" class=\"edge\">\n<title>8&#45;&gt;14</title>\n<path fill=\"none\" stroke=\"black\" d=\"M667.8,-296.88C686.62,-284.73 707.85,-271.03 726.39,-259.06\"/>\n<polygon fill=\"black\" stroke=\"black\" points=\"728.47,-261.88 734.97,-253.52 724.67,-256 728.47,-261.88\"/>\n</g>\n<!-- 10 -->\n<g id=\"node11\" class=\"node\">\n<title>10</title>\n<polygon fill=\"none\" stroke=\"black\" points=\"707.5,-157 525.5,-157 525.5,-89 707.5,-89 707.5,-157\"/>\n<text text-anchor=\"middle\" x=\"616.5\" y=\"-141.8\" font-family=\"Helvetica,sans-Serif\" font-size=\"14.00\">Marginal_Adhesion &lt;= 5.5</text>\n<text text-anchor=\"middle\" x=\"616.5\" y=\"-126.8\" font-family=\"Helvetica,sans-Serif\" font-size=\"14.00\">entropy = 0.684</text>\n<text text-anchor=\"middle\" x=\"616.5\" y=\"-111.8\" font-family=\"Helvetica,sans-Serif\" font-size=\"14.00\">samples = 44</text>\n<text text-anchor=\"middle\" x=\"616.5\" y=\"-96.8\" font-family=\"Helvetica,sans-Serif\" font-size=\"14.00\">value = [8, 36]</text>\n</g>\n<!-- 9&#45;&gt;10 -->\n<g id=\"edge10\" class=\"edge\">\n<title>9&#45;&gt;10</title>\n<path fill=\"none\" stroke=\"black\" d=\"M616.5,-192.88C616.5,-184.78 616.5,-175.98 616.5,-167.47\"/>\n<polygon fill=\"black\" stroke=\"black\" points=\"620,-167.3 616.5,-157.3 613,-167.3 620,-167.3\"/>\n</g>\n<!-- 13 -->\n<g id=\"node14\" class=\"node\">\n<title>13</title>\n<polygon fill=\"none\" stroke=\"black\" points=\"831,-149.5 726,-149.5 726,-96.5 831,-96.5 831,-149.5\"/>\n<text text-anchor=\"middle\" x=\"778.5\" y=\"-134.3\" font-family=\"Helvetica,sans-Serif\" font-size=\"14.00\">entropy = 0.0</text>\n<text text-anchor=\"middle\" x=\"778.5\" y=\"-119.3\" font-family=\"Helvetica,sans-Serif\" font-size=\"14.00\">samples = 31</text>\n<text text-anchor=\"middle\" x=\"778.5\" y=\"-104.3\" font-family=\"Helvetica,sans-Serif\" font-size=\"14.00\">value = [0, 31]</text>\n</g>\n<!-- 9&#45;&gt;13 -->\n<g id=\"edge13\" class=\"edge\">\n<title>9&#45;&gt;13</title>\n<path fill=\"none\" stroke=\"black\" d=\"M669.1,-192.88C688.49,-180.68 710.36,-166.9 729.43,-154.9\"/>\n<polygon fill=\"black\" stroke=\"black\" points=\"731.37,-157.81 737.97,-149.52 727.64,-151.89 731.37,-157.81\"/>\n</g>\n<!-- 11 -->\n<g id=\"node12\" class=\"node\">\n<title>11</title>\n<polygon fill=\"none\" stroke=\"black\" points=\"607.5,-53 499.5,-53 499.5,0 607.5,0 607.5,-53\"/>\n<text text-anchor=\"middle\" x=\"553.5\" y=\"-37.8\" font-family=\"Helvetica,sans-Serif\" font-size=\"14.00\">entropy = 0.89</text>\n<text text-anchor=\"middle\" x=\"553.5\" y=\"-22.8\" font-family=\"Helvetica,sans-Serif\" font-size=\"14.00\">samples = 26</text>\n<text text-anchor=\"middle\" x=\"553.5\" y=\"-7.8\" font-family=\"Helvetica,sans-Serif\" font-size=\"14.00\">value = [8, 18]</text>\n</g>\n<!-- 10&#45;&gt;11 -->\n<g id=\"edge11\" class=\"edge\">\n<title>10&#45;&gt;11</title>\n<path fill=\"none\" stroke=\"black\" d=\"M594.47,-88.95C588.61,-80.17 582.28,-70.66 576.38,-61.82\"/>\n<polygon fill=\"black\" stroke=\"black\" points=\"579.12,-59.62 570.66,-53.24 573.29,-63.5 579.12,-59.62\"/>\n</g>\n<!-- 12 -->\n<g id=\"node13\" class=\"node\">\n<title>12</title>\n<polygon fill=\"none\" stroke=\"black\" points=\"731,-53 626,-53 626,0 731,0 731,-53\"/>\n<text text-anchor=\"middle\" x=\"678.5\" y=\"-37.8\" font-family=\"Helvetica,sans-Serif\" font-size=\"14.00\">entropy = 0.0</text>\n<text text-anchor=\"middle\" x=\"678.5\" y=\"-22.8\" font-family=\"Helvetica,sans-Serif\" font-size=\"14.00\">samples = 18</text>\n<text text-anchor=\"middle\" x=\"678.5\" y=\"-7.8\" font-family=\"Helvetica,sans-Serif\" font-size=\"14.00\">value = [0, 18]</text>\n</g>\n<!-- 10&#45;&gt;12 -->\n<g id=\"edge12\" class=\"edge\">\n<title>10&#45;&gt;12</title>\n<path fill=\"none\" stroke=\"black\" d=\"M638.18,-88.95C643.95,-80.17 650.18,-70.66 655.99,-61.82\"/>\n<polygon fill=\"black\" stroke=\"black\" points=\"659.06,-63.52 661.61,-53.24 653.2,-59.68 659.06,-63.52\"/>\n</g>\n</g>\n</svg>\n",
      "text/plain": [
       "<graphviz.sources.Source at 0x226534c6940>"
      ]
     },
     "execution_count": 40,
     "metadata": {},
     "output_type": "execute_result"
    }
   ],
   "source": [
    "from sklearn import tree\n",
    "import graphviz\n",
    "dot_data = tree.export_graphviz(dt, out_file=None, \n",
    "                     feature_names=X.columns,\n",
    "                     filled=False, rounded=False,  \n",
    "                     special_characters=False)  \n",
    "graph = graphviz.Source(dot_data)  \n",
    "graph "
   ]
  },
  {
   "cell_type": "markdown",
   "id": "e0c83a5a-c6d3-41af-b323-f8f6cfa75ba1",
   "metadata": {
    "tags": []
   },
   "source": [
    "## 2. Stable CRI\n",
    "\n",
    "+ concise rule induction의 stable 버전\n",
    "\n",
    "### 2.1 Dataset\n",
    "+ fitting 시 X,y가 다 포함된 dataset과 target name을 넣어야함"
   ]
  },
  {
   "cell_type": "code",
   "execution_count": 43,
   "id": "f5b538d0-96e9-4d4b-a7f3-cd40c1d9f118",
   "metadata": {
    "tags": []
   },
   "outputs": [],
   "source": [
    "from modules.stableCRI import stable_concise_rule_induction # file 제공\n",
    "\n",
    "dataset = data.copy()\n",
    "target_name = 'Class' # target name을 꼭 입력해주시길 바랍니다.\n",
    "colnm = dataset.columns\n",
    "X = dataset.loc[:,colnm [colnm != target_name]]\n",
    "y = dataset.loc[:, target_name]\n",
    "X_train, X_test, y_train, y_test = train_test_split(X, y, test_size=0.2, random_state=77)"
   ]
  },
  {
   "cell_type": "code",
   "execution_count": 51,
   "id": "05b819a1-512b-4ae3-9a1a-ed08c34608f5",
   "metadata": {
    "tags": []
   },
   "outputs": [],
   "source": [
    "from modules.stableCRI import stable_concise_rule_induction # file 제공\n",
    "\n",
    "# Concatenating X,y -> training dataset([X_train,y_train]), test dataset([X_test,y_test]) \n",
    "train_idx, test_idx = X_train.index, X_test.index\n",
    "df_train, df_test = dataset.loc[train_idx,:], dataset.loc[test_idx,:]"
   ]
  },
  {
   "cell_type": "markdown",
   "id": "973e351e-0ddb-47de-aff6-19eee444e94f",
   "metadata": {
    "tags": []
   },
   "source": [
    "### 2.2 Fitting\n",
    "+ params\n",
    "    - min_samples : OSM 트리에서 리프 노드의 min_samples\n",
    "    - max_depth : OSM 트리의 max depth\n",
    "    - rule_rate : rule generation 시 rule들이 커버할 training dataset의 비율 (concise 후에는 달라질 수 있음)\n",
    "    - iter_num : node에서 rule 유도 시 리샘플링 횟수 \n",
    "    - target_name : 목표 변수의 column명\n",
    "+ 범주형 변수는 숫자로 바꿔주는 전처리를 해도 되고, 안해도 됨\n",
    "+ 매우 느립니다. 어쩌면 하루가 넘게 걸릴 수도 있습니다.\n",
    "+ 실행이 오래 걸린다면 iter_num을 낮춰서 해보시기 바랍니다. 실행이 너무 오래 걸린다면 데이터셋을 잘 줄여서 해보시기 바랍니다.\n",
    "+ 실행 시간이 오래 소요되지 않는다면 별 다른 제약 없이 min_samples만 training dataset의 3%로 설정하고 수행 "
   ]
  },
  {
   "cell_type": "code",
   "execution_count": 52,
   "id": "72005589-9212-426a-aa78-4dfd9fc4fa2a",
   "metadata": {},
   "outputs": [
    {
     "data": {
      "text/plain": [
       "Index(['Clump_Thickness', 'Uniformity_of_Cell_Size',\n",
       "       'Uniformity_of_Cell_Shape', 'Marginal_Adhesion',\n",
       "       'Single_Epithelial_Cell_Size', 'Bare_Nuclei', 'Bland_Chromatin',\n",
       "       'Normal_Nucleoli', 'Mitoses', 'Class'],\n",
       "      dtype='object')"
      ]
     },
     "execution_count": 52,
     "metadata": {},
     "output_type": "execute_result"
    }
   ],
   "source": [
    "df_train.columns"
   ]
  },
  {
   "cell_type": "code",
   "execution_count": 54,
   "id": "fabff41a-b055-4740-8817-4d693a855e27",
   "metadata": {
    "tags": []
   },
   "outputs": [
    {
     "name": "stdout",
     "output_type": "stream",
     "text": [
      "이거뜨면안됨\n",
      "이거뜨면안됨\n",
      "이거뜨면안됨\n"
     ]
    }
   ],
   "source": [
    "target_name = 'Class'\n",
    "min_sample_ratio = 0.01\n",
    "min_samples = round(min_sample_ratio * len(df_train))\n",
    "max_depth = 10 # 처음에는 2 또는 3으로 설정해서 돌려보고, 소요시간을 체크해보시기 바랍니다.\n",
    "\n",
    "cri = stable_concise_rule_induction(min_samples = min_samples, max_depth = max_depth)\n",
    "cri.fit(data = df_train, target_name = target_name, iter_num = 3, rule_rate = 0.9, resample_ratio=0.9) "
   ]
  },
  {
   "cell_type": "markdown",
   "id": "64d3e9cd-9990-4867-bb21-9573ed7f0456",
   "metadata": {},
   "source": [
    "### 2.3 Results"
   ]
  },
  {
   "cell_type": "code",
   "execution_count": 55,
   "id": "677f9210-1c1c-4c82-9751-554f66e46edb",
   "metadata": {},
   "outputs": [
    {
     "data": {
      "text/plain": [
       "(0.9562, 0.9519)"
      ]
     },
     "execution_count": 55,
     "metadata": {},
     "output_type": "execute_result"
    }
   ],
   "source": [
    "# predictive performance\n",
    "# f1 : macro-averaging for multiclass\n",
    "pred_y, acc, f1 = cri.predict(df_test)\n",
    "acc,f1"
   ]
  },
  {
   "cell_type": "code",
   "execution_count": 30,
   "id": "7c8f17a3-f3af-4d66-8be2-a1b585583106",
   "metadata": {},
   "outputs": [
    {
     "name": "stdout",
     "output_type": "stream",
     "text": [
      "[[245   3]\n",
      " [ 40   6]]\n"
     ]
    }
   ],
   "source": [
    "# confusion matrix\n",
    "cm = confusion_matrix(y_test, pred_y)\n",
    "print(cm)"
   ]
  },
  {
   "cell_type": "code",
   "execution_count": 56,
   "id": "0a828f6a-732c-4088-aaba-60fbcd73165e",
   "metadata": {},
   "outputs": [
    {
     "name": "stdout",
     "output_type": "stream",
     "text": [
      "IF ['Uniformity_of_Cell_Shape < 1.5'] THEN Class = 0   (homogeneity = 0.9963 , coverage = 0.5 )\n",
      "IF ['Uniformity_of_Cell_Shape >= 1.5', 'Bland_Chromatin >= 4.5'] THEN Class = 1   (homogeneity = 0.9699 , coverage = 0.5 )\n",
      "IF ['Uniformity_of_Cell_Size >= 4.5'] THEN Class = 1   (homogeneity = 0.9859 , coverage = 0.2601 )\n"
     ]
    }
   ],
   "source": [
    "# rules\n",
    "cri.export_text()"
   ]
  },
  {
   "cell_type": "code",
   "execution_count": 57,
   "id": "966ff086-c29e-4ae1-8163-d75db626358f",
   "metadata": {},
   "outputs": [
    {
     "data": {
      "text/html": [
       "<div>\n",
       "<style scoped>\n",
       "    .dataframe tbody tr th:only-of-type {\n",
       "        vertical-align: middle;\n",
       "    }\n",
       "\n",
       "    .dataframe tbody tr th {\n",
       "        vertical-align: top;\n",
       "    }\n",
       "\n",
       "    .dataframe thead th {\n",
       "        text-align: right;\n",
       "    }\n",
       "</style>\n",
       "<table border=\"1\" class=\"dataframe\">\n",
       "  <thead>\n",
       "    <tr style=\"text-align: right;\">\n",
       "      <th></th>\n",
       "      <th>0</th>\n",
       "      <th>1</th>\n",
       "      <th>2</th>\n",
       "    </tr>\n",
       "  </thead>\n",
       "  <tbody>\n",
       "    <tr>\n",
       "      <th>Rule</th>\n",
       "      <td>Uniformity_of_Cell_Shape &lt; 1.5</td>\n",
       "      <td>Uniformity_of_Cell_Size &gt;= 4.5</td>\n",
       "      <td>Uniformity_of_Cell_Shape &gt;= 1.5, Bland_Chromat...</td>\n",
       "    </tr>\n",
       "    <tr>\n",
       "      <th>pred_y</th>\n",
       "      <td>0</td>\n",
       "      <td>1</td>\n",
       "      <td>1</td>\n",
       "    </tr>\n",
       "    <tr>\n",
       "      <th>Homogeneity</th>\n",
       "      <td>0.9963</td>\n",
       "      <td>0.9859</td>\n",
       "      <td>0.9699</td>\n",
       "    </tr>\n",
       "    <tr>\n",
       "      <th>Coverage</th>\n",
       "      <td>0.5</td>\n",
       "      <td>0.2601</td>\n",
       "      <td>0.5</td>\n",
       "    </tr>\n",
       "    <tr>\n",
       "      <th># of condition</th>\n",
       "      <td>1.0</td>\n",
       "      <td>1.0</td>\n",
       "      <td>2.0</td>\n",
       "    </tr>\n",
       "  </tbody>\n",
       "</table>\n",
       "</div>"
      ],
      "text/plain": [
       "                                             0  \\\n",
       "Rule            Uniformity_of_Cell_Shape < 1.5   \n",
       "pred_y                                       0   \n",
       "Homogeneity                             0.9963   \n",
       "Coverage                                   0.5   \n",
       "# of condition                             1.0   \n",
       "\n",
       "                                             1  \\\n",
       "Rule            Uniformity_of_Cell_Size >= 4.5   \n",
       "pred_y                                       1   \n",
       "Homogeneity                             0.9859   \n",
       "Coverage                                0.2601   \n",
       "# of condition                             1.0   \n",
       "\n",
       "                                                                2  \n",
       "Rule            Uniformity_of_Cell_Shape >= 1.5, Bland_Chromat...  \n",
       "pred_y                                                          1  \n",
       "Homogeneity                                                0.9699  \n",
       "Coverage                                                      0.5  \n",
       "# of condition                                                2.0  "
      ]
     },
     "execution_count": 57,
     "metadata": {},
     "output_type": "execute_result"
    }
   ],
   "source": [
    "cri.df_concise_rule"
   ]
  },
  {
   "cell_type": "code",
   "execution_count": 58,
   "id": "4f2d17f4-4de0-4fa8-af6a-7f91f72f600f",
   "metadata": {},
   "outputs": [
    {
     "data": {
      "text/html": [
       "<div>\n",
       "<style scoped>\n",
       "    .dataframe tbody tr th:only-of-type {\n",
       "        vertical-align: middle;\n",
       "    }\n",
       "\n",
       "    .dataframe tbody tr th {\n",
       "        vertical-align: top;\n",
       "    }\n",
       "\n",
       "    .dataframe thead th {\n",
       "        text-align: right;\n",
       "    }\n",
       "</style>\n",
       "<table border=\"1\" class=\"dataframe\">\n",
       "  <thead>\n",
       "    <tr style=\"text-align: right;\">\n",
       "      <th></th>\n",
       "      <th>Clump_Thickness</th>\n",
       "      <th>Uniformity_of_Cell_Size</th>\n",
       "      <th>Uniformity_of_Cell_Shape</th>\n",
       "      <th>Marginal_Adhesion</th>\n",
       "      <th>Single_Epithelial_Cell_Size</th>\n",
       "      <th>Bare_Nuclei</th>\n",
       "      <th>Bland_Chromatin</th>\n",
       "      <th>Normal_Nucleoli</th>\n",
       "      <th>Mitoses</th>\n",
       "      <th>Class</th>\n",
       "    </tr>\n",
       "  </thead>\n",
       "  <tbody>\n",
       "    <tr>\n",
       "      <th>394</th>\n",
       "      <td>2</td>\n",
       "      <td>3</td>\n",
       "      <td>2</td>\n",
       "      <td>2</td>\n",
       "      <td>2</td>\n",
       "      <td>2</td>\n",
       "      <td>3</td>\n",
       "      <td>1</td>\n",
       "      <td>1</td>\n",
       "      <td>0</td>\n",
       "    </tr>\n",
       "    <tr>\n",
       "      <th>244</th>\n",
       "      <td>6</td>\n",
       "      <td>3</td>\n",
       "      <td>3</td>\n",
       "      <td>5</td>\n",
       "      <td>3</td>\n",
       "      <td>10</td>\n",
       "      <td>3</td>\n",
       "      <td>5</td>\n",
       "      <td>3</td>\n",
       "      <td>0</td>\n",
       "    </tr>\n",
       "    <tr>\n",
       "      <th>630</th>\n",
       "      <td>1</td>\n",
       "      <td>2</td>\n",
       "      <td>2</td>\n",
       "      <td>1</td>\n",
       "      <td>2</td>\n",
       "      <td>1</td>\n",
       "      <td>1</td>\n",
       "      <td>1</td>\n",
       "      <td>1</td>\n",
       "      <td>0</td>\n",
       "    </tr>\n",
       "    <tr>\n",
       "      <th>600</th>\n",
       "      <td>4</td>\n",
       "      <td>1</td>\n",
       "      <td>3</td>\n",
       "      <td>1</td>\n",
       "      <td>2</td>\n",
       "      <td>1</td>\n",
       "      <td>2</td>\n",
       "      <td>1</td>\n",
       "      <td>1</td>\n",
       "      <td>0</td>\n",
       "    </tr>\n",
       "    <tr>\n",
       "      <th>342</th>\n",
       "      <td>5</td>\n",
       "      <td>3</td>\n",
       "      <td>3</td>\n",
       "      <td>1</td>\n",
       "      <td>3</td>\n",
       "      <td>3</td>\n",
       "      <td>3</td>\n",
       "      <td>3</td>\n",
       "      <td>3</td>\n",
       "      <td>1</td>\n",
       "    </tr>\n",
       "    <tr>\n",
       "      <th>...</th>\n",
       "      <td>...</td>\n",
       "      <td>...</td>\n",
       "      <td>...</td>\n",
       "      <td>...</td>\n",
       "      <td>...</td>\n",
       "      <td>...</td>\n",
       "      <td>...</td>\n",
       "      <td>...</td>\n",
       "      <td>...</td>\n",
       "      <td>...</td>\n",
       "    </tr>\n",
       "    <tr>\n",
       "      <th>537</th>\n",
       "      <td>3</td>\n",
       "      <td>2</td>\n",
       "      <td>2</td>\n",
       "      <td>2</td>\n",
       "      <td>2</td>\n",
       "      <td>1</td>\n",
       "      <td>4</td>\n",
       "      <td>2</td>\n",
       "      <td>1</td>\n",
       "      <td>0</td>\n",
       "    </tr>\n",
       "    <tr>\n",
       "      <th>609</th>\n",
       "      <td>3</td>\n",
       "      <td>1</td>\n",
       "      <td>3</td>\n",
       "      <td>1</td>\n",
       "      <td>3</td>\n",
       "      <td>4</td>\n",
       "      <td>1</td>\n",
       "      <td>1</td>\n",
       "      <td>1</td>\n",
       "      <td>0</td>\n",
       "    </tr>\n",
       "    <tr>\n",
       "      <th>380</th>\n",
       "      <td>1</td>\n",
       "      <td>2</td>\n",
       "      <td>3</td>\n",
       "      <td>1</td>\n",
       "      <td>2</td>\n",
       "      <td>1</td>\n",
       "      <td>2</td>\n",
       "      <td>1</td>\n",
       "      <td>1</td>\n",
       "      <td>0</td>\n",
       "    </tr>\n",
       "    <tr>\n",
       "      <th>257</th>\n",
       "      <td>5</td>\n",
       "      <td>1</td>\n",
       "      <td>4</td>\n",
       "      <td>1</td>\n",
       "      <td>2</td>\n",
       "      <td>1</td>\n",
       "      <td>3</td>\n",
       "      <td>2</td>\n",
       "      <td>1</td>\n",
       "      <td>0</td>\n",
       "    </tr>\n",
       "    <tr>\n",
       "      <th>373</th>\n",
       "      <td>5</td>\n",
       "      <td>3</td>\n",
       "      <td>3</td>\n",
       "      <td>2</td>\n",
       "      <td>3</td>\n",
       "      <td>1</td>\n",
       "      <td>3</td>\n",
       "      <td>1</td>\n",
       "      <td>1</td>\n",
       "      <td>0</td>\n",
       "    </tr>\n",
       "  </tbody>\n",
       "</table>\n",
       "<p>105 rows × 10 columns</p>\n",
       "</div>"
      ],
      "text/plain": [
       "     Clump_Thickness  Uniformity_of_Cell_Size  Uniformity_of_Cell_Shape  \\\n",
       "394                2                        3                         2   \n",
       "244                6                        3                         3   \n",
       "630                1                        2                         2   \n",
       "600                4                        1                         3   \n",
       "342                5                        3                         3   \n",
       "..               ...                      ...                       ...   \n",
       "537                3                        2                         2   \n",
       "609                3                        1                         3   \n",
       "380                1                        2                         3   \n",
       "257                5                        1                         4   \n",
       "373                5                        3                         3   \n",
       "\n",
       "     Marginal_Adhesion  Single_Epithelial_Cell_Size  Bare_Nuclei  \\\n",
       "394                  2                            2            2   \n",
       "244                  5                            3           10   \n",
       "630                  1                            2            1   \n",
       "600                  1                            2            1   \n",
       "342                  1                            3            3   \n",
       "..                 ...                          ...          ...   \n",
       "537                  2                            2            1   \n",
       "609                  1                            3            4   \n",
       "380                  1                            2            1   \n",
       "257                  1                            2            1   \n",
       "373                  2                            3            1   \n",
       "\n",
       "     Bland_Chromatin  Normal_Nucleoli  Mitoses  Class  \n",
       "394                3                1        1      0  \n",
       "244                3                5        3      0  \n",
       "630                1                1        1      0  \n",
       "600                2                1        1      0  \n",
       "342                3                3        3      1  \n",
       "..               ...              ...      ...    ...  \n",
       "537                4                2        1      0  \n",
       "609                1                1        1      0  \n",
       "380                2                1        1      0  \n",
       "257                3                2        1      0  \n",
       "373                3                1        1      0  \n",
       "\n",
       "[105 rows x 10 columns]"
      ]
     },
     "execution_count": 58,
     "metadata": {},
     "output_type": "execute_result"
    }
   ],
   "source": [
    "# dataset not included in rules\n",
    "cri.others_df"
   ]
  },
  {
   "cell_type": "markdown",
   "id": "23c0a757-c731-4ba5-be6a-63c49b0bccd7",
   "metadata": {},
   "source": [
    "### rule relation\n",
    "+ part 3, rule relation은 이번 주에 최대한 정리가 되는대로 올릴 예정인데요. 올린다 하여도 사용성이 매우 낮거나 아니면 올리지 못 할 수도 있습니다. 따라서 rule relation 계산들은 미리 진행하시는 것이 좋을 것 같습니다."
   ]
  },
  {
   "cell_type": "code",
   "execution_count": null,
   "id": "b0219092-2213-462f-a9a1-b9dedccf523b",
   "metadata": {},
   "outputs": [],
   "source": []
  }
 ],
 "metadata": {
  "kernelspec": {
   "display_name": "Python 3.8.13 ('my_env')",
   "language": "python",
   "name": "python3"
  },
  "language_info": {
   "codemirror_mode": {
    "name": "ipython",
    "version": 3
   },
   "file_extension": ".py",
   "mimetype": "text/x-python",
   "name": "python",
   "nbconvert_exporter": "python",
   "pygments_lexer": "ipython3",
   "version": "3.8.13"
  },
  "vscode": {
   "interpreter": {
    "hash": "57e741fd5d8162e0b61d61ef062a3258bb1212c925b5668e2417125dd1916b85"
   }
  }
 },
 "nbformat": 4,
 "nbformat_minor": 5
}
